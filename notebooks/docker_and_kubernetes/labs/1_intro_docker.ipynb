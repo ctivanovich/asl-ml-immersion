{
 "cells": [
  {
   "cell_type": "markdown",
   "metadata": {},
   "source": [
    "# Introduction to Docker\n",
    "\n",
    "**Learning Objectives**\n",
    "  * Build and run Docker containers\n",
    "  * Pull Docker images from Docker Hub and Google Container Registry\n",
    "  * Push Docker images to Google Container Registry"
   ]
  },
  {
   "cell_type": "markdown",
   "metadata": {},
   "source": [
    "## Overview\n",
    "\n",
    "Docker is an open platform for developing, shipping, and running applications. With Docker, you can separate your applications from your infrastructure and treat your infrastructure like a managed application. Docker helps you ship code faster, test faster, deploy faster, and shorten the cycle between writing code and running code.\n",
    "\n",
    "Docker does this by combining kernel containerization features with workflows and tooling that helps you manage and deploy your applications.\n",
    "\n",
    "Docker containers can be directly used in Kubernetes, which allows them to be run in the Kubernetes Engine with ease. After learning the essentials of Docker, you will have the skillset to start developing Kubernetes and containerized applications."
   ]
  },
  {
   "cell_type": "markdown",
   "metadata": {},
   "source": [
    "## Basic Docker commands"
   ]
  },
  {
   "cell_type": "markdown",
   "metadata": {},
   "source": [
    "See what docker images you have. "
   ]
  },
  {
   "cell_type": "code",
   "execution_count": 1,
   "metadata": {},
   "outputs": [
    {
     "name": "stdout",
     "output_type": "stream",
     "text": [
      "REPOSITORY                     TAG       IMAGE ID       CREATED        SIZE\n",
      "gcr.io/inverting-proxy/agent   <none>    fe507176d0e6   8 months ago   1.73GB\n"
     ]
    }
   ],
   "source": [
    "!docker images"
   ]
  },
  {
   "cell_type": "markdown",
   "metadata": {},
   "source": [
    "If this is the first time working with docker you won't have any repositories listed. \n",
    "\n",
    "**Note**. If you are running this in an AI Notebook, then you should see a single image `gcr.io/inverting-proxy/agent`. This is the container that is currently running the AI Notebook. \n",
    "\n",
    "Let's use `docker run` to pull a docker image called `hello-world` from the public registry. The docker daemon will search for the `hello-world` image, if it doesn't find the image locally, it pulls the image from a public registry called Docker Hub, creates a container from that image, and runs the container for you."
   ]
  },
  {
   "cell_type": "code",
   "execution_count": 2,
   "metadata": {},
   "outputs": [
    {
     "name": "stdout",
     "output_type": "stream",
     "text": [
      "Unable to find image 'hello-world:latest' locally\n",
      "latest: Pulling from library/hello-world\n",
      "\n",
      "\u001b[1BDigest: sha256:37a0b92b08d4919615c3ee023f7ddb068d12b8387475d64c622ac30f45c29c51\n",
      "Status: Downloaded newer image for hello-world:latest\n",
      "\n",
      "Hello from Docker!\n",
      "This message shows that your installation appears to be working correctly.\n",
      "\n",
      "To generate this message, Docker took the following steps:\n",
      " 1. The Docker client contacted the Docker daemon.\n",
      " 2. The Docker daemon pulled the \"hello-world\" image from the Docker Hub.\n",
      "    (amd64)\n",
      " 3. The Docker daemon created a new container from that image which runs the\n",
      "    executable that produces the output you are currently reading.\n",
      " 4. The Docker daemon streamed that output to the Docker client, which sent it\n",
      "    to your terminal.\n",
      "\n",
      "To try something more ambitious, you can run an Ubuntu container with:\n",
      " $ docker run -it ubuntu bash\n",
      "\n",
      "Share images, automate workflows, and more with a free Docker ID:\n",
      " https://hub.docker.com/\n",
      "\n",
      "For more examples and ideas, visit:\n",
      " https://docs.docker.com/get-started/\n",
      "\n"
     ]
    }
   ],
   "source": [
    "!docker run hello-world"
   ]
  },
  {
   "cell_type": "markdown",
   "metadata": {},
   "source": [
    "Now when we look at our docker images we should see `hello-world` there as well."
   ]
  },
  {
   "cell_type": "code",
   "execution_count": 3,
   "metadata": {},
   "outputs": [
    {
     "name": "stdout",
     "output_type": "stream",
     "text": [
      "REPOSITORY                     TAG       IMAGE ID       CREATED        SIZE\n",
      "hello-world                    latest    feb5d9fea6a5   6 weeks ago    13.3kB\n",
      "gcr.io/inverting-proxy/agent   <none>    fe507176d0e6   8 months ago   1.73GB\n"
     ]
    }
   ],
   "source": [
    "!docker images"
   ]
  },
  {
   "cell_type": "markdown",
   "metadata": {},
   "source": [
    "This is the image pulled from the Docker Hub public registry. The Image ID is in `SHA256` hash format—this field specifies the Docker image that's been provisioned. When the docker daemon can't find an image locally, it will by default search the public registry for the image. Let's run the container again:"
   ]
  },
  {
   "cell_type": "markdown",
   "metadata": {},
   "source": [
    "Now, if we want to run `docker run hello-world` again, it won't have to download from the container registry."
   ]
  },
  {
   "cell_type": "markdown",
   "metadata": {},
   "source": [
    "To see all docker containers running, use `docker ps`."
   ]
  },
  {
   "cell_type": "code",
   "execution_count": 4,
   "metadata": {},
   "outputs": [
    {
     "name": "stdout",
     "output_type": "stream",
     "text": [
      "CONTAINER ID   IMAGE                          COMMAND                  CREATED      STATUS      PORTS     NAMES\n",
      "ae392520191d   gcr.io/inverting-proxy/agent   \"/bin/sh -c '/opt/bi…\"   6 days ago   Up 6 days             proxy-agent\n"
     ]
    }
   ],
   "source": [
    "!docker ps"
   ]
  },
  {
   "cell_type": "markdown",
   "metadata": {},
   "source": [
    "There are no running containers. **Note. If you are running this in at AI Notebook, you'll see one container running.**\n",
    "\n",
    "The `hello-world` containers you ran previously already exited. In order to see all containers, including ones that have finished executing, run docker `ps -a`:"
   ]
  },
  {
   "cell_type": "code",
   "execution_count": 5,
   "metadata": {},
   "outputs": [
    {
     "name": "stdout",
     "output_type": "stream",
     "text": [
      "CONTAINER ID   IMAGE                          COMMAND                  CREATED         STATUS                     PORTS     NAMES\n",
      "144673fb34f0   hello-world                    \"/hello\"                 7 seconds ago   Exited (0) 6 seconds ago             priceless_dhawan\n",
      "ae392520191d   gcr.io/inverting-proxy/agent   \"/bin/sh -c '/opt/bi…\"   6 days ago      Up 6 days                            proxy-agent\n"
     ]
    }
   ],
   "source": [
    "!docker ps -a"
   ]
  },
  {
   "cell_type": "markdown",
   "metadata": {},
   "source": [
    "This shows you the Container ID, a UUID generated by Docker to identify the container, and more metadata about the run. The container Names are also randomly generated but can be specified with docker run --name [container-name] hello-world."
   ]
  },
  {
   "cell_type": "markdown",
   "metadata": {},
   "source": [
    "## Build a Docker container"
   ]
  },
  {
   "cell_type": "markdown",
   "metadata": {},
   "source": [
    "Let's build a Docker image that's based on a simple node application."
   ]
  },
  {
   "cell_type": "markdown",
   "metadata": {},
   "source": [
    "**Exercise**\n",
    "\n",
    "Open the text file called `intro.docker` in the `dockerfiles` folder and complete the TODO there. "
   ]
  },
  {
   "cell_type": "markdown",
   "metadata": {},
   "source": [
    "Your dockerfile should have the following steps\n",
    "\n",
    " 1. use `FROM` to inherit an official Node runtime as the parent image; e.g. node:6\n",
    " 2. use `WORKDIR` to seet the working directory to /app\n",
    " 3. use `ADD` to copy the current directory to the container at /app\n",
    " 4. use `EXPOSE` to make the containers port 80 available to the outside world\n",
    " 5. use `CMD` to run the command `node ./src/app.js`"
   ]
  },
  {
   "cell_type": "markdown",
   "metadata": {},
   "source": [
    "This file instructs the Docker daemon on how to build your image.\n",
    "\n",
    "The initial line specifies the base parent image, which in this case is the official Docker image for node version 6.\n",
    "In the second, we set the working (current) directory of the container.\n",
    "In the third, we add the current directory's contents (indicated by the \".\" ) into the container.\n",
    "Then we expose the container's port so it can accept connections on that port and finally run the node command to start the application.\n",
    "\n",
    "Check out the other [Docker command references](https://docs.docker.com/engine/reference/builder/#known-issues-run) to understand what each line does."
   ]
  },
  {
   "cell_type": "markdown",
   "metadata": {},
   "source": [
    "We're going to use this Docker container to run a simple node.js app. Have a look at `app.js`. This is a simple HTTP server that listens on port 80 and returns \"Hello World.\"\n"
   ]
  },
  {
   "cell_type": "markdown",
   "metadata": {},
   "source": [
    "Now let's build the image. Note again the \"`.`\", which means current directory so you need to run this command from within the directory that has the Dockerfile.\n",
    "\n",
    "The `-t` is to name and tag an image with the `name:tag` syntax. The name of the image is `node-app` and the tag is `0.1`. The tag is highly recommended when building Docker images. If you don't specify a tag, the tag will default to latest and it becomes more difficult to distinguish newer images from older ones. Also notice how each line in the Dockerfile above results in intermediate container layers as the image is built."
   ]
  },
  {
   "cell_type": "markdown",
   "metadata": {},
   "source": [
    "**Exercise**\n",
    "\n",
    "Use `docker build` to build the docker image at `dockerfiles/intro.docker`. Tag the image `node-app:0.1`. "
   ]
  },
  {
   "cell_type": "code",
   "execution_count": 6,
   "metadata": {},
   "outputs": [
    {
     "name": "stdout",
     "output_type": "stream",
     "text": [
      "/home/jupyter/asl-ml-immersion/notebooks/docker_and_kubernetes/labs\n"
     ]
    }
   ],
   "source": [
    "!pwd"
   ]
  },
  {
   "cell_type": "code",
   "execution_count": 32,
   "metadata": {},
   "outputs": [
    {
     "name": "stdout",
     "output_type": "stream",
     "text": [
      "Sending build context to Docker daemon  7.168kB\n",
      "Step 1/5 : FROM node:latest\n",
      " ---> 7220633f01cd\n",
      "Step 2/5 : WORKDIR /app\n",
      " ---> Using cache\n",
      " ---> f1a73ad8418b\n",
      "Step 3/5 : COPY src/ /app\n",
      " ---> ce4147ef958b\n",
      "Step 4/5 : EXPOSE 80\n",
      " ---> Running in 4d87d712f1fe\n",
      "Removing intermediate container 4d87d712f1fe\n",
      " ---> a0100313e822\n",
      "Step 5/5 : ENTRYPOINT node app.js\n",
      " ---> Running in 0bb2bf17dfba\n",
      "Removing intermediate container 0bb2bf17dfba\n",
      " ---> e0ad8979a21e\n",
      "Successfully built e0ad8979a21e\n",
      "Successfully tagged node-app:0.1\n"
     ]
    }
   ],
   "source": [
    "%%bash\n",
    "cd /home/jupyter/asl-ml-immersion/notebooks/docker_and_kubernetes/labs/dockerfiles\n",
    "docker build -t node-app:0.1 . -f intro.docker"
   ]
  },
  {
   "cell_type": "markdown",
   "metadata": {},
   "source": [
    "Let's check that the image has been created correctly. "
   ]
  },
  {
   "cell_type": "code",
   "execution_count": 33,
   "metadata": {},
   "outputs": [
    {
     "name": "stdout",
     "output_type": "stream",
     "text": [
      "REPOSITORY                     TAG       IMAGE ID       CREATED         SIZE\n",
      "node-app                       0.1       e0ad8979a21e   3 seconds ago   992MB\n",
      "node                           latest    7220633f01cd   2 weeks ago     992MB\n",
      "hello-world                    latest    feb5d9fea6a5   6 weeks ago     13.3kB\n",
      "gcr.io/inverting-proxy/agent   <none>    fe507176d0e6   8 months ago    1.73GB\n"
     ]
    }
   ],
   "source": [
    "!docker images"
   ]
  },
  {
   "cell_type": "markdown",
   "metadata": {},
   "source": [
    "You should see a `node-app` repository that was created only seconds ago. \n",
    "\n",
    "Notice `node` is the base image and `node-app` is the image you built. You can't remove `node` without removing `node-app` first. The size of the image is relatively small compared to VMs. Other versions of the node image such as `node:slim` and `node:alpine` can give you even smaller images for easier portability. The topic of slimming down container sizes is further explored in Advanced Topics. You can view all versions in the official repository here.\n",
    "\n",
    "Note, you can remove an image from your docker images using `docker rmi [repository]:[tag]`."
   ]
  },
  {
   "cell_type": "markdown",
   "metadata": {},
   "source": [
    "## Run a Docker container\n",
    "\n",
    "Now we'll run the container based on the image you built above using the `docker run` command. The `--name` flag allows you to name the container if you like. And `-p` instructs Docker to map the host's port 4000 to the container's port 80. This allows you to reach the server at http://localhost:4000. Without port mapping, you would not be able to reach the container at localhost."
   ]
  },
  {
   "cell_type": "code",
   "execution_count": 34,
   "metadata": {},
   "outputs": [
    {
     "name": "stdout",
     "output_type": "stream",
     "text": [
      "Error: No such image: a50c890deb6e\n"
     ]
    }
   ],
   "source": [
    "!docker rmi 'node-app'"
   ]
  },
  {
   "cell_type": "code",
   "execution_count": 38,
   "metadata": {},
   "outputs": [
    {
     "name": "stdout",
     "output_type": "stream",
     "text": [
      "my-app\n",
      "my-app\n"
     ]
    }
   ],
   "source": [
    "%%bash\n",
    "docker stop 'my-app'\n",
    "docker rm 'my-app'"
   ]
  },
  {
   "cell_type": "markdown",
   "metadata": {},
   "source": [
    "**Exercise**\n",
    "\n",
    "Use `docker run` to run the container you just build called `node-app:0.1`. Assign the host port `4000` to port `80` and assign it the name `my-app`."
   ]
  },
  {
   "cell_type": "code",
   "execution_count": 40,
   "metadata": {},
   "outputs": [
    {
     "name": "stdout",
     "output_type": "stream",
     "text": [
      "430e25a104676a4aba47f2bb2154438027fcc40cc1c9b6e3cac1cf58ae7e0a42\n"
     ]
    }
   ],
   "source": [
    "%%bash\n",
    "docker run -d -p 4000:80 --name 'my-app' 'node-app:0.1'"
   ]
  },
  {
   "cell_type": "markdown",
   "metadata": {},
   "source": [
    "To test out the server, open a terminal window and type the following command:\n",
    "\n",
    "```bash\n",
    "curl http://localhost:4000\n",
    "```\n",
    "\n",
    "You should see the server respond with `Hello World`"
   ]
  },
  {
   "cell_type": "markdown",
   "metadata": {},
   "source": [
    "The container will run as long as the initial terminal is running. If you want to stop the container, run the following command in the terminal to stop and remove the container:\n",
    "\n",
    "```bash\n",
    "docker stop my-app && docker rm my-app\n",
    "```\n",
    "After a few moments the container will stop. You should notice the cell above will complete execution.\n",
    "\n",
    "#### Running the container in the background\n",
    "If you want to the container to run in the background (not tied to the terminal's session), you need to specify the `-d` flag.\n",
    "Now run the following command to start the container in the background"
   ]
  },
  {
   "cell_type": "markdown",
   "metadata": {},
   "source": [
    "**Exercise**\n",
    "\n",
    "Modify your command above with `-d` flag to run `my-app` in the background."
   ]
  },
  {
   "cell_type": "code",
   "execution_count": null,
   "metadata": {},
   "outputs": [],
   "source": [
    "%%bash\n",
    "TODO: Your code goes here"
   ]
  },
  {
   "cell_type": "markdown",
   "metadata": {},
   "source": [
    "Your container is now running in the background. You can check the status of your running container using `docker ps`"
   ]
  },
  {
   "cell_type": "code",
   "execution_count": 41,
   "metadata": {},
   "outputs": [
    {
     "name": "stdout",
     "output_type": "stream",
     "text": [
      "CONTAINER ID   IMAGE                          COMMAND                  CREATED          STATUS          PORTS                  NAMES\n",
      "430e25a10467   node-app:0.1                   \"/bin/sh -c 'node ap…\"   32 seconds ago   Up 31 seconds   0.0.0.0:4000->80/tcp   my-app\n",
      "ae392520191d   gcr.io/inverting-proxy/agent   \"/bin/sh -c '/opt/bi…\"   6 days ago       Up 6 days                              proxy-agent\n"
     ]
    }
   ],
   "source": [
    "!docker ps"
   ]
  },
  {
   "cell_type": "markdown",
   "metadata": {},
   "source": [
    "Notice the container is running in the output of docker ps. You can look at the logs by executing `docker logs [container_id]`. "
   ]
  },
  {
   "cell_type": "code",
   "execution_count": 42,
   "metadata": {},
   "outputs": [
    {
     "name": "stdout",
     "output_type": "stream",
     "text": [
      "Server running at http://0.0.0.0:80/\n"
     ]
    }
   ],
   "source": [
    "# Note, your container id will be different\n",
    "!docker logs 430e25a10467"
   ]
  },
  {
   "cell_type": "markdown",
   "metadata": {},
   "source": [
    "You should see \n",
    "```bash\n",
    "Server running at http://0.0.0.0:80/\n",
    "```\n",
    "If you want to follow the log's output as the container is running, use the `-f` option."
   ]
  },
  {
   "cell_type": "markdown",
   "metadata": {},
   "source": [
    "## Modify & Publish\n",
    "\n",
    "Let's modify the application and push it to your Google Cloud Repository (gcr). After that you'll remove all local containers and images to simulate a fresh environment, and then pull and run your containers from gcr. This will demonstrate the portability of Docker containers.\n",
    "\n",
    "### Edit `app.js`\n",
    "Open the file `./src/app.js` with the text editor and replace \"Hello World\" with another string. Then build this new image. "
   ]
  },
  {
   "cell_type": "markdown",
   "metadata": {},
   "source": [
    "**Exercise**\n",
    "\n",
    "After modifying the `app.js` file, use `docker build` to build a new container called `node-app:0.2` from the same docker file. "
   ]
  },
  {
   "cell_type": "code",
   "execution_count": 44,
   "metadata": {},
   "outputs": [
    {
     "name": "stdout",
     "output_type": "stream",
     "text": [
      "Sending build context to Docker daemon  8.704kB\n",
      "Step 1/5 : FROM node:latest\n",
      " ---> 7220633f01cd\n",
      "Step 2/5 : WORKDIR /app\n",
      " ---> Using cache\n",
      " ---> f1a73ad8418b\n",
      "Step 3/5 : COPY src/ /app\n",
      " ---> d304bd771638\n",
      "Step 4/5 : EXPOSE 80\n",
      " ---> Running in b623fc1d3e5a\n",
      "Removing intermediate container b623fc1d3e5a\n",
      " ---> 5f2e33a18e63\n",
      "Step 5/5 : ENTRYPOINT node app.js\n",
      " ---> Running in ff489ccc6ad3\n",
      "Removing intermediate container ff489ccc6ad3\n",
      " ---> b13446ebdebc\n",
      "Successfully built b13446ebdebc\n",
      "Successfully tagged node-app:0.2\n"
     ]
    }
   ],
   "source": [
    "%%bash\n",
    "cd /home/jupyter/asl-ml-immersion/notebooks/docker_and_kubernetes/labs/dockerfiles\n",
    "docker build -t node-app:0.2 . -f intro.docker"
   ]
  },
  {
   "cell_type": "markdown",
   "metadata": {},
   "source": [
    "Notice in `Step 2` of the output we are using an existing cache layer. From `Step 3` and on, the layers are modified because we made a change in `app.js`.\n",
    "\n",
    "Run another container with the new image version. Notice how we map the host's port 8000 instead of 80. We can't use host port 4000 because it's already in use. "
   ]
  },
  {
   "cell_type": "markdown",
   "metadata": {},
   "source": [
    "**Exercise**\n",
    "\n",
    "Run this new container in the background using a different port and with the name `my-app-2`."
   ]
  },
  {
   "cell_type": "code",
   "execution_count": 45,
   "metadata": {},
   "outputs": [
    {
     "name": "stdout",
     "output_type": "stream",
     "text": [
      "2e174c986158a5d5ef289ee2b77ced1535a4aa929a2062fd8ef32c1b3a86dec2\n"
     ]
    }
   ],
   "source": [
    "%%bash\n",
    "docker run -d -p 4010:80 --name 'my-app-2' 'node-app:0.2'"
   ]
  },
  {
   "cell_type": "markdown",
   "metadata": {},
   "source": [
    "You can check that both container are running using `docker ps`."
   ]
  },
  {
   "cell_type": "code",
   "execution_count": 46,
   "metadata": {},
   "outputs": [
    {
     "name": "stdout",
     "output_type": "stream",
     "text": [
      "CONTAINER ID   IMAGE                          COMMAND                  CREATED         STATUS         PORTS                  NAMES\n",
      "2e174c986158   node-app:0.2                   \"/bin/sh -c 'node ap…\"   3 seconds ago   Up 2 seconds   0.0.0.0:4010->80/tcp   my-app-2\n",
      "430e25a10467   node-app:0.1                   \"/bin/sh -c 'node ap…\"   5 minutes ago   Up 5 minutes   0.0.0.0:4000->80/tcp   my-app\n",
      "ae392520191d   gcr.io/inverting-proxy/agent   \"/bin/sh -c '/opt/bi…\"   6 days ago      Up 6 days                             proxy-agent\n"
     ]
    }
   ],
   "source": [
    "!docker ps"
   ]
  },
  {
   "cell_type": "markdown",
   "metadata": {},
   "source": [
    "And let's test boht containers using `curl` as before:"
   ]
  },
  {
   "cell_type": "code",
   "execution_count": 47,
   "metadata": {},
   "outputs": [
    {
     "name": "stdout",
     "output_type": "stream",
     "text": [
      "Hello World!\n"
     ]
    }
   ],
   "source": [
    "!curl http://localhost:4010"
   ]
  },
  {
   "cell_type": "code",
   "execution_count": 48,
   "metadata": {},
   "outputs": [
    {
     "name": "stdout",
     "output_type": "stream",
     "text": [
      "Hello Wolrd!\n"
     ]
    }
   ],
   "source": [
    "!curl http://localhost:4000"
   ]
  },
  {
   "cell_type": "markdown",
   "metadata": {},
   "source": [
    "Recall, to stop a container running, you can execute the following command either in a terminal or (because they are running in the background) in a cell in this notebook. "
   ]
  },
  {
   "cell_type": "markdown",
   "metadata": {},
   "source": [
    "### Publish to gcr\n",
    "\n",
    "Now you're going to push your image to the Google Container Registry (gcr). To push images to your private registry hosted by gcr, you need to tag the images with a registry name. The format is `[hostname]/[project-id]/[image]:[tag]`.\n",
    "\n",
    "For gcr:\n",
    "\n",
    "  * `[hostname]`= gcr.io\n",
    "  * `[project-id]`= your project's ID\n",
    "  * `[image]`= your image name\n",
    "  * `[tag]`= any string tag of your choice. If unspecified, it defaults to \"latest\"."
   ]
  },
  {
   "cell_type": "code",
   "execution_count": 49,
   "metadata": {},
   "outputs": [],
   "source": [
    "import os\n",
    "\n",
    "PROJECT_ID = \"qwiklabs-gcp-04-0ad772141888\" # REPLACE WITH YOUR PROJECT NAME\n",
    "\n",
    "os.environ[\"PROJECT_ID\"] = PROJECT_ID"
   ]
  },
  {
   "cell_type": "markdown",
   "metadata": {},
   "source": [
    "Let's tag `node-app:0.2`."
   ]
  },
  {
   "cell_type": "code",
   "execution_count": 50,
   "metadata": {},
   "outputs": [
    {
     "name": "stdout",
     "output_type": "stream",
     "text": [
      "REPOSITORY                     TAG       IMAGE ID       CREATED              SIZE\n",
      "node-app                       0.2       b13446ebdebc   About a minute ago   992MB\n",
      "node-app                       0.1       e0ad8979a21e   7 minutes ago        992MB\n",
      "node                           latest    7220633f01cd   2 weeks ago          992MB\n",
      "hello-world                    latest    feb5d9fea6a5   6 weeks ago          13.3kB\n",
      "gcr.io/inverting-proxy/agent   <none>    fe507176d0e6   8 months ago         1.73GB\n"
     ]
    }
   ],
   "source": [
    "!docker images"
   ]
  },
  {
   "cell_type": "markdown",
   "metadata": {},
   "source": [
    "**Exercise**\n",
    "\n",
    "Tag the `node-app:0.2` image with a new image name conforming to the naming convention `gcr.io/[project-id]/[image]:[tag]`. Keep the image and tag names the same."
   ]
  },
  {
   "cell_type": "code",
   "execution_count": 51,
   "metadata": {},
   "outputs": [],
   "source": [
    "%%bash\n",
    "docker tag 'node-app:0.2' 'gcr.io/qwiklabs-gcp-04-0ad772141888/node-app:0.2'"
   ]
  },
  {
   "cell_type": "markdown",
   "metadata": {},
   "source": [
    "Now when we list our docker images we should see this newly tagged repository."
   ]
  },
  {
   "cell_type": "code",
   "execution_count": 52,
   "metadata": {},
   "outputs": [
    {
     "name": "stdout",
     "output_type": "stream",
     "text": [
      "REPOSITORY                                     TAG       IMAGE ID       CREATED              SIZE\n",
      "node-app                                       0.2       b13446ebdebc   About a minute ago   992MB\n",
      "gcr.io/qwiklabs-gcp-04-0ad772141888/node-app   0.2       b13446ebdebc   About a minute ago   992MB\n",
      "node-app                                       0.1       e0ad8979a21e   8 minutes ago        992MB\n",
      "node                                           latest    7220633f01cd   2 weeks ago          992MB\n",
      "hello-world                                    latest    feb5d9fea6a5   6 weeks ago          13.3kB\n",
      "gcr.io/inverting-proxy/agent                   <none>    fe507176d0e6   8 months ago         1.73GB\n"
     ]
    }
   ],
   "source": [
    "!docker images"
   ]
  },
  {
   "cell_type": "markdown",
   "metadata": {},
   "source": [
    "Next, let's push this image to gcr."
   ]
  },
  {
   "cell_type": "markdown",
   "metadata": {},
   "source": [
    "**Exercise**\n",
    "\n",
    "Push this new image to the gcr."
   ]
  },
  {
   "cell_type": "code",
   "execution_count": 54,
   "metadata": {},
   "outputs": [
    {
     "name": "stdout",
     "output_type": "stream",
     "text": [
      "The push refers to repository [gcr.io/qwiklabs-gcp-04-0ad772141888/node-app]\n",
      "8c48749234d7: Preparing\n",
      "3fd477af44ee: Preparing\n",
      "013fc0144002: Preparing\n",
      "5723726afdfd: Preparing\n",
      "02784cd376a2: Preparing\n",
      "3525f11eba01: Preparing\n",
      "8f56c3340629: Preparing\n",
      "ba6e5ff31f23: Preparing\n",
      "9f9f651e9303: Preparing\n",
      "0b3c02b5d746: Preparing\n",
      "62a747bf1719: Preparing\n",
      "3525f11eba01: Waiting\n",
      "8f56c3340629: Waiting\n",
      "ba6e5ff31f23: Waiting\n",
      "9f9f651e9303: Waiting\n",
      "0b3c02b5d746: Waiting\n",
      "62a747bf1719: Waiting\n",
      "5723726afdfd: Layer already exists\n",
      "02784cd376a2: Layer already exists\n",
      "013fc0144002: Layer already exists\n",
      "3525f11eba01: Layer already exists\n",
      "ba6e5ff31f23: Layer already exists\n",
      "8f56c3340629: Layer already exists\n",
      "0b3c02b5d746: Layer already exists\n",
      "9f9f651e9303: Layer already exists\n",
      "62a747bf1719: Layer already exists\n",
      "8c48749234d7: Pushed\n",
      "3fd477af44ee: Pushed\n",
      "0.2: digest: sha256:600304b115c5fc216347d64a415222b48a09369990a2038c0a184712d483d7a6 size: 2629\n"
     ]
    }
   ],
   "source": [
    "%%bash\n",
    "docker push 'gcr.io/qwiklabs-gcp-04-0ad772141888/node-app:0.2'"
   ]
  },
  {
   "cell_type": "markdown",
   "metadata": {},
   "source": [
    "Check that the image exists in `gcr` by visiting the image registry Cloud Console. You can navigate via the console to `Navigation menu > Container Registry` or visit the url from the cell below:"
   ]
  },
  {
   "cell_type": "code",
   "execution_count": 55,
   "metadata": {},
   "outputs": [
    {
     "name": "stdout",
     "output_type": "stream",
     "text": [
      "http://gcr.io/qwiklabs-gcp-04-0ad772141888/node-app\n"
     ]
    }
   ],
   "source": [
    "%%bash\n",
    "echo \"http://gcr.io/${PROJECT_ID}/node-app\""
   ]
  },
  {
   "cell_type": "markdown",
   "metadata": {},
   "source": [
    "### Test the published gcr image\n",
    "\n",
    "Let's test this image. You could start a new VM, ssh into that VM, and install gcloud. For simplicity, we'll just remove all containers and images to simulate a fresh environment.\n",
    "\n",
    "First, stop and remove all containers using `docker stop` and `docker rm`. **Be careful not to stop the container running this AI Notebook!**."
   ]
  },
  {
   "cell_type": "code",
   "execution_count": 57,
   "metadata": {},
   "outputs": [
    {
     "name": "stdout",
     "output_type": "stream",
     "text": [
      "my-app\n",
      "my-app\n"
     ]
    }
   ],
   "source": [
    "!docker stop 'my-app' && docker rm 'my-app'"
   ]
  },
  {
   "cell_type": "code",
   "execution_count": 58,
   "metadata": {},
   "outputs": [
    {
     "name": "stdout",
     "output_type": "stream",
     "text": [
      "my-app-2\n",
      "my-app-2\n"
     ]
    }
   ],
   "source": [
    "!docker stop 'my-app-2' && docker rm 'my-app-2'"
   ]
  },
  {
   "cell_type": "markdown",
   "metadata": {},
   "source": [
    "Now remove the docker images you've created above using `docker rmi`."
   ]
  },
  {
   "cell_type": "code",
   "execution_count": 59,
   "metadata": {},
   "outputs": [
    {
     "name": "stdout",
     "output_type": "stream",
     "text": [
      "REPOSITORY                                     TAG       IMAGE ID       CREATED          SIZE\n",
      "gcr.io/qwiklabs-gcp-04-0ad772141888/node-app   0.2       b13446ebdebc   3 minutes ago    992MB\n",
      "node-app                                       0.2       b13446ebdebc   3 minutes ago    992MB\n",
      "node-app                                       0.1       e0ad8979a21e   10 minutes ago   992MB\n",
      "node                                           latest    7220633f01cd   2 weeks ago      992MB\n",
      "hello-world                                    latest    feb5d9fea6a5   6 weeks ago      13.3kB\n",
      "gcr.io/inverting-proxy/agent                   <none>    fe507176d0e6   8 months ago     1.73GB\n"
     ]
    }
   ],
   "source": [
    "!docker images"
   ]
  },
  {
   "cell_type": "code",
   "execution_count": 60,
   "metadata": {},
   "outputs": [
    {
     "name": "stdout",
     "output_type": "stream",
     "text": [
      "Untagged: node-app:0.2\n",
      "Untagged: gcr.io/qwiklabs-gcp-04-0ad772141888/node-app:0.2\n",
      "Untagged: gcr.io/qwiklabs-gcp-04-0ad772141888/node-app@sha256:600304b115c5fc216347d64a415222b48a09369990a2038c0a184712d483d7a6\n",
      "Deleted: sha256:b13446ebdebc0120106a6bebf312fddfdca638bc2d55b556e83541fea86391c0\n",
      "Deleted: sha256:5f2e33a18e639f697d9355c9bf7a11ffdbc24d9f40b072657f53a9fcd9b79ccd\n",
      "Deleted: sha256:d304bd77163850e217a32c090d0e26943b7b0b760d63bc0fdd0ee9f113746fe8\n",
      "Deleted: sha256:2c16ac1689d6e20f5ab5afe0ff123e27cea31fdbd454cbd2878e84f650a48f2a\n",
      "Untagged: node-app:0.1\n",
      "Deleted: sha256:e0ad8979a21e325c0e9b18d19afca809bde0c6d80d371e6425ffe2d67f98834b\n",
      "Deleted: sha256:a0100313e822b52e941c2338d0ae135b632a32dcbda228c4c90715bff1649363\n",
      "Deleted: sha256:ce4147ef958b5ee7cc058b85da00a16b94b5e82441100158fb4aa056faff3801\n",
      "Deleted: sha256:de375618e9800a4c7a807c458f960a5d1f6ec2a15f43f80634ab11dff1dd4959\n",
      "Deleted: sha256:f1a73ad8418be9491219363bc8c3fa54b31055efbd0a3cb3b6e53ef4221b39f7\n",
      "Deleted: sha256:ce77970473c888fb78ef1dfa220ba155f54b4e9b49d6d99277d4c7d430a73620\n",
      "Untagged: node:latest\n",
      "Untagged: node@sha256:a562ce5da0b5e43107b4acbc5d8845129370f11bcb81c795601dc3d6004d6158\n",
      "Deleted: sha256:7220633f01cdab3c20b7ded7f04e43e5b1ca95a5c5376a27e8fe41793d2dba6f\n",
      "Deleted: sha256:477b901f817630d2e4c63167ec3d02df3260335cfa16b6ebf52cbee47e23ea23\n",
      "Deleted: sha256:7304742164eed9f4f3c37bcd2812775660c7dfdbcc488d6c7747a1bdb9b1b0d6\n",
      "Deleted: sha256:5d718b2a62801d9855070f344fceaf1fa83366f7e6f66b4e3cc59a74d581bc3f\n",
      "Deleted: sha256:51e00c2f20febb20b8e1748361d239869b324f8da84328bed68a27aef8edf436\n",
      "Deleted: sha256:e67b6800e9e8882c7060611038966ea29afe619bce27d0ea01528979a0f5c0fd\n",
      "Deleted: sha256:995950c940fdede4906e13ddb5a13691b727b942a9b67afc23cc0172d80897a8\n",
      "Deleted: sha256:b7a4a299f0c4a0e9d6f4156cd61b3a00c0595d9ee3db2dd7888f3a855b541fd6\n",
      "Deleted: sha256:a9e0e6b8fdcd469c8785099c4559093696ad2c7da957d355557a17ed1bb8d23f\n",
      "Deleted: sha256:62a747bf1719d2d37fff5670ed40de6900a95743172de1b4434cb019b56f30b4\n",
      "Untagged: hello-world:latest\n",
      "Untagged: hello-world@sha256:37a0b92b08d4919615c3ee023f7ddb068d12b8387475d64c622ac30f45c29c51\n",
      "Deleted: sha256:feb5d9fea6a5e9606aa995e879d862b825965ba48de054caab5ef356dc6b3412\n"
     ]
    }
   ],
   "source": [
    "%%bash\n",
    "docker rmi node-app:0.2\n",
    "docker rmi gcr.io/${PROJECT_ID}/node-app:0.2\n",
    "docker rmi node-app:0.1\n",
    "docker rmi node:latest\n",
    "docker rmi -f hello-world:latest"
   ]
  },
  {
   "cell_type": "markdown",
   "metadata": {},
   "source": [
    "Confirm all images are removed with `docker images`."
   ]
  },
  {
   "cell_type": "code",
   "execution_count": 61,
   "metadata": {},
   "outputs": [
    {
     "name": "stdout",
     "output_type": "stream",
     "text": [
      "REPOSITORY                     TAG       IMAGE ID       CREATED        SIZE\n",
      "gcr.io/inverting-proxy/agent   <none>    fe507176d0e6   8 months ago   1.73GB\n"
     ]
    }
   ],
   "source": [
    "!docker images"
   ]
  },
  {
   "cell_type": "markdown",
   "metadata": {},
   "source": [
    "At this point you should have a pseudo-fresh environment. Now, pull the image and run it."
   ]
  },
  {
   "cell_type": "code",
   "execution_count": 62,
   "metadata": {},
   "outputs": [
    {
     "name": "stdout",
     "output_type": "stream",
     "text": [
      "0.2: Pulling from qwiklabs-gcp-04-0ad772141888/node-app\n",
      "bb7d5a84853b: Pulling fs layer\n",
      "f02b617c6a8c: Pulling fs layer\n",
      "d32e17419b7e: Pulling fs layer\n",
      "c9d2d81226a4: Pulling fs layer\n",
      "3c24ae8b6604: Pulling fs layer\n",
      "a7c459a8e2ce: Pulling fs layer\n",
      "4c986aa83582: Pulling fs layer\n",
      "8b73f64a6d5d: Pulling fs layer\n",
      "a50553bfc7b9: Pulling fs layer\n",
      "7fa0f309c2cd: Pulling fs layer\n",
      "da473c1b2b4f: Pulling fs layer\n",
      "3c24ae8b6604: Waiting\n",
      "8b73f64a6d5d: Waiting\n",
      "a7c459a8e2ce: Waiting\n",
      "a50553bfc7b9: Waiting\n",
      "4c986aa83582: Waiting\n",
      "7fa0f309c2cd: Waiting\n",
      "da473c1b2b4f: Waiting\n",
      "c9d2d81226a4: Waiting\n",
      "f02b617c6a8c: Verifying Checksum\n",
      "f02b617c6a8c: Download complete\n",
      "d32e17419b7e: Verifying Checksum\n",
      "d32e17419b7e: Download complete\n",
      "bb7d5a84853b: Verifying Checksum\n",
      "bb7d5a84853b: Download complete\n",
      "a7c459a8e2ce: Verifying Checksum\n",
      "a7c459a8e2ce: Download complete\n",
      "c9d2d81226a4: Verifying Checksum\n",
      "c9d2d81226a4: Download complete\n",
      "8b73f64a6d5d: Verifying Checksum\n",
      "8b73f64a6d5d: Download complete\n",
      "a50553bfc7b9: Verifying Checksum\n",
      "a50553bfc7b9: Download complete\n",
      "7fa0f309c2cd: Verifying Checksum\n",
      "7fa0f309c2cd: Download complete\n",
      "da473c1b2b4f: Verifying Checksum\n",
      "da473c1b2b4f: Download complete\n",
      "4c986aa83582: Verifying Checksum\n",
      "4c986aa83582: Download complete\n",
      "3c24ae8b6604: Verifying Checksum\n",
      "3c24ae8b6604: Download complete\n",
      "bb7d5a84853b: Pull complete\n",
      "f02b617c6a8c: Pull complete\n",
      "d32e17419b7e: Pull complete\n",
      "c9d2d81226a4: Pull complete\n",
      "3c24ae8b6604: Pull complete\n",
      "a7c459a8e2ce: Pull complete\n",
      "4c986aa83582: Pull complete\n",
      "8b73f64a6d5d: Pull complete\n",
      "a50553bfc7b9: Pull complete\n",
      "7fa0f309c2cd: Pull complete\n",
      "da473c1b2b4f: Pull complete\n",
      "Digest: sha256:600304b115c5fc216347d64a415222b48a09369990a2038c0a184712d483d7a6\n",
      "Status: Downloaded newer image for gcr.io/qwiklabs-gcp-04-0ad772141888/node-app:0.2\n",
      "gcr.io/qwiklabs-gcp-04-0ad772141888/node-app:0.2\n",
      "8c6797fa6606bd0b7549afff38827ad6b4ee6052d2e167db317333b8340d6afa\n"
     ]
    }
   ],
   "source": [
    "%%bash\n",
    "docker pull gcr.io/${PROJECT_ID}/node-app:0.2\n",
    "docker run -p 4000:80 -d gcr.io/${PROJECT_ID}/node-app:0.2"
   ]
  },
  {
   "cell_type": "markdown",
   "metadata": {},
   "source": [
    "You can check that it's running as expected using before:"
   ]
  },
  {
   "cell_type": "code",
   "execution_count": 64,
   "metadata": {},
   "outputs": [
    {
     "name": "stdout",
     "output_type": "stream",
     "text": [
      "Hello World!\n"
     ]
    }
   ],
   "source": [
    "!curl http://localhost:4000"
   ]
  },
  {
   "cell_type": "markdown",
   "metadata": {},
   "source": [
    "Copyright 2020 Google LLC Licensed under the Apache License, Version 2.0 (the \"License\"); you may not use this file except in compliance with the License. You may obtain a copy of the License at https://www.apache.org/licenses/LICENSE-2.0 Unless required by applicable law or agreed to in writing, software distributed under the License is distributed on an \"AS IS\" BASIS, WITHOUT WARRANTIES OR CONDITIONS OF ANY KIND, either express or implied. See the License for the specific language governing permissions and limitations under the License."
   ]
  }
 ],
 "metadata": {
  "environment": {
   "kernel": "python3",
   "name": "tf2-gpu.2-3.m82",
   "type": "gcloud",
   "uri": "gcr.io/deeplearning-platform-release/tf2-gpu.2-3:m82"
  },
  "kernelspec": {
   "display_name": "Python 3",
   "language": "python",
   "name": "python3"
  },
  "language_info": {
   "codemirror_mode": {
    "name": "ipython",
    "version": 3
   },
   "file_extension": ".py",
   "mimetype": "text/x-python",
   "name": "python",
   "nbconvert_exporter": "python",
   "pygments_lexer": "ipython3",
   "version": "3.7.10"
  }
 },
 "nbformat": 4,
 "nbformat_minor": 4
}
